{
 "cells": [
  {
   "cell_type": "markdown",
   "id": "731615d7",
   "metadata": {},
   "source": [
    "# Import Lib"
   ]
  },
  {
   "cell_type": "code",
   "execution_count": 1,
   "id": "2fc53cde",
   "metadata": {},
   "outputs": [],
   "source": [
    "import pandas as pd\n",
    "import numpy as np\n",
    "import matplotlib.pyplot as plt\n",
    "\n",
    "from sklearn.datasets import fetch_california_housing\n",
    "from sklearn.model_selection import train_test_split\n",
    "from sklearn.preprocessing import StandardScaler \n",
    " \n",
    "import tensorflow as tf\n",
    "from tensorflow.keras.models import Sequential\n",
    "from tensorflow.keras.layers import Dense, Dropout\n",
    "\n",
    "from sklearn.metrics import r2_score\n",
    "\n",
    "from tensorflow.keras.optimizers import SGD\n",
    "\n",
    "from tensorflow.keras.callbacks import EarlyStopping"
   ]
  },
  {
   "cell_type": "code",
   "execution_count": 2,
   "id": "0fb7dfe3-03ba-4897-b56c-de7963f4d671",
   "metadata": {},
   "outputs": [
    {
     "name": "stdout",
     "output_type": "stream",
     "text": [
      "C:\\ProgramData\\anaconda3\\python.exe\n",
      "3.12.4 | packaged by Anaconda, Inc. | (main, Jun 18 2024, 15:03:56) [MSC v.1929 64 bit (AMD64)]\n"
     ]
    }
   ],
   "source": [
    "import sys\n",
    "print(sys.executable)\n",
    "print(sys.version)"
   ]
  },
  {
   "cell_type": "markdown",
   "id": "a0040c58-38c6-44ea-83c4-f3d4fc18a323",
   "metadata": {},
   "source": [
    "## Teacher Description\n",
    "<section style=\"text-align:right;direction:rtl;\">\n",
    "    pandas, numpy, matplotlib سه کتاب خوانه پایه یادگیری ماشین هستند.<br/>\n",
    "    با کمک sklearn.datasets دیتاست مریوط به قیمت خونه ها تو کالیفرنیا آورده شده.<br/>\n",
    "    train_test_split برای جدا سازی داده های آموزشی و تست آورده شده.<br/>\n",
    "    StandardScaler کار اسکیل کردن داده هارو برامون قراره انجام بده.<br/>\n",
    "    tensorflow برای ساخت مدل مون نیازه که ایمپورت کنیم.<br/>\n",
    "    این کتابخونه هارو هر بار ایمپورت میکنیم\n",
    "</section>"
   ]
  },
  {
   "cell_type": "markdown",
   "id": "6d03f17e",
   "metadata": {},
   "source": [
    "# Load the dataset"
   ]
  },
  {
   "cell_type": "code",
   "execution_count": null,
   "id": "9012603e",
   "metadata": {},
   "outputs": [],
   "source": [
    "data = fetch_california_housing()\n",
    "\n",
    "df = pd.DataFrame(data.data, columns=data.feature_names)\n",
    "\n",
    "df['target'] = data.target\n",
    "\n",
    "df.head()"
   ]
  },
  {
   "cell_type": "markdown",
   "id": "a29781d7-bfa0-420d-908e-6f5f84b6f49c",
   "metadata": {},
   "source": [
    "<section style=\"text-align:right;direction:rtl;\">\n",
    "    <b>fetch_california_housing():</b> با کمک این تابع، داده های ما فراخوانی میشن و اونو داخل یه متغییر قرار دادیم.<br/>\n",
    "    <b>pd.DataFrame(data.data, columns=data.feature_names):</b> میخوایم دیتا هامون رو بصورت دیتا فریم پانداز در بیاریم که x مون مقادیر و y اسم ستون هاست.<br/>\n",
    "    <b>df['target'] = data.target:</b> یک ستون دیگه اضافه میکنیم به اسم تارگت و target داخل دیتا رو توش قرار میدیم.<br/>\n",
    "</section>"
   ]
  },
  {
   "cell_type": "markdown",
   "id": "4a8fd856",
   "metadata": {},
   "source": [
    "# Split the data into training and test sets"
   ]
  },
  {
   "cell_type": "code",
   "execution_count": null,
   "id": "00775ddb",
   "metadata": {},
   "outputs": [],
   "source": [
    "# x,y ---> x_train, x_test, y_train, y_test\n",
    "\n",
    "x = df.drop('target', axis = 1)\n",
    "\n",
    "y = df['target']"
   ]
  },
  {
   "cell_type": "code",
   "execution_count": null,
   "id": "2b361d12-47ac-40b4-8ff8-2ac759387480",
   "metadata": {},
   "outputs": [],
   "source": []
  },
  {
   "cell_type": "code",
   "execution_count": null,
   "id": "727cd805",
   "metadata": {},
   "outputs": [],
   "source": [
    "x.shape"
   ]
  },
  {
   "cell_type": "code",
   "execution_count": null,
   "id": "66daf645",
   "metadata": {},
   "outputs": [],
   "source": [
    "y.shape"
   ]
  },
  {
   "cell_type": "code",
   "execution_count": null,
   "id": "51646acf",
   "metadata": {},
   "outputs": [],
   "source": [
    "x_train, x_test, y_train, y_test = train_test_split(x,y, test_size=0.2, random_state=42)"
   ]
  },
  {
   "cell_type": "code",
   "execution_count": null,
   "id": "086f0b44",
   "metadata": {},
   "outputs": [],
   "source": [
    "x_train.shape"
   ]
  },
  {
   "cell_type": "code",
   "execution_count": null,
   "id": "6d67a07e",
   "metadata": {},
   "outputs": [],
   "source": [
    "x_test.shape"
   ]
  },
  {
   "cell_type": "markdown",
   "id": "209c58be",
   "metadata": {},
   "source": [
    "# Scale the features"
   ]
  },
  {
   "cell_type": "code",
   "execution_count": null,
   "id": "e0a04c7f",
   "metadata": {},
   "outputs": [],
   "source": [
    "scaler = StandardScaler()\n",
    "\n",
    "x_train = scaler.fit_transform(x_train)\n",
    "\n",
    "x_test = scaler.transform(x_test)"
   ]
  },
  {
   "cell_type": "code",
   "execution_count": null,
   "id": "cb54d821",
   "metadata": {},
   "outputs": [],
   "source": [
    "x_train"
   ]
  },
  {
   "cell_type": "markdown",
   "id": "715389ea",
   "metadata": {},
   "source": [
    "# "
   ]
  },
  {
   "cell_type": "markdown",
   "id": "07977f96",
   "metadata": {},
   "source": [
    "# Build the neural network model"
   ]
  },
  {
   "cell_type": "code",
   "execution_count": null,
   "id": "c2d5efc9",
   "metadata": {},
   "outputs": [],
   "source": [
    "model = Sequential()\n",
    "model.add(Dense(128, activation='relu', input_shape=(x_train.shape[1],)))\n",
    "model.add(Dense(64, activation='relu'))\n",
    "model.add(Dense(32, activation='relu'))\n",
    "model.add(Dense(1))"
   ]
  },
  {
   "cell_type": "code",
   "execution_count": null,
   "id": "46124d78",
   "metadata": {},
   "outputs": [],
   "source": [
    "model.summary()"
   ]
  },
  {
   "cell_type": "markdown",
   "id": "a317e7c4",
   "metadata": {},
   "source": [
    "# Compile the model"
   ]
  },
  {
   "cell_type": "code",
   "execution_count": null,
   "id": "cef4b168",
   "metadata": {},
   "outputs": [],
   "source": [
    "model.compile(optimizer = SGD(learning_rate= 0.01), loss= 'mse', metrics=['mae'])"
   ]
  },
  {
   "cell_type": "markdown",
   "id": "a9b7dfe7",
   "metadata": {},
   "source": [
    "# Train the model"
   ]
  },
  {
   "cell_type": "code",
   "execution_count": null,
   "id": "932af778",
   "metadata": {},
   "outputs": [],
   "source": [
    "history = model.fit(x_train, y_train, validation_split=0.2, epochs=20, batch_size=32)"
   ]
  },
  {
   "cell_type": "markdown",
   "id": "ce04392e",
   "metadata": {},
   "source": [
    "# Evaluate the model on the test set"
   ]
  },
  {
   "cell_type": "code",
   "execution_count": null,
   "id": "ea2cd9a8",
   "metadata": {},
   "outputs": [],
   "source": [
    "y_pred = model.predict(x_test)"
   ]
  },
  {
   "cell_type": "code",
   "execution_count": null,
   "id": "f95d757e",
   "metadata": {},
   "outputs": [],
   "source": [
    "r2 = r2_score(y_test, y_pred)\n",
    "r2"
   ]
  },
  {
   "cell_type": "code",
   "execution_count": null,
   "id": "6f05d017",
   "metadata": {},
   "outputs": [],
   "source": [
    "test_loss, test_mae = model.evaluate(x_test,y_test)\n",
    "\n",
    "test_mae"
   ]
  },
  {
   "cell_type": "code",
   "execution_count": null,
   "id": "eced6f23",
   "metadata": {},
   "outputs": [],
   "source": [
    "test_loss"
   ]
  },
  {
   "cell_type": "markdown",
   "id": "028d554a",
   "metadata": {},
   "source": [
    "# Plot"
   ]
  },
  {
   "cell_type": "code",
   "execution_count": null,
   "id": "546ef5db",
   "metadata": {},
   "outputs": [],
   "source": [
    "# Function to plot the training, validation, and test metrics\n",
    "def plot_metrics(history, y_test, y_pred, test_loss, test_mae, metric_name):\n",
    "    plt.plot(history.history[metric_name], label=f'Training {metric_name}')\n",
    "    plt.plot(history.history[f'val_{metric_name}'], label=f'Validation {metric_name}')\n",
    "    if metric_name == 'loss':\n",
    "        plt.scatter(len(history.history[metric_name]) - 1, test_loss, color='red', label='Test Loss')\n",
    "    else:\n",
    "        plt.scatter(len(history.history[metric_name]) - 1, test_mae, color='red', label='Test MAE')\n",
    "    plt.xlabel('Epochs')\n",
    "    plt.ylabel(metric_name.capitalize())\n",
    "    plt.legend()\n",
    "    plt.show()"
   ]
  },
  {
   "cell_type": "code",
   "execution_count": null,
   "id": "b2c49c86",
   "metadata": {},
   "outputs": [],
   "source": [
    "plot_metrics(history, y_test, y_pred, test_loss, test_mae, 'loss')\n",
    "plot_metrics(history, y_test, y_pred, test_loss, test_mae, 'mae')"
   ]
  }
 ],
 "metadata": {
  "kernelspec": {
   "display_name": "Python (myenv)",
   "language": "python",
   "name": "myenv"
  },
  "language_info": {
   "codemirror_mode": {
    "name": "ipython",
    "version": 3
   },
   "file_extension": ".py",
   "mimetype": "text/x-python",
   "name": "python",
   "nbconvert_exporter": "python",
   "pygments_lexer": "ipython3",
   "version": "3.12.1"
  }
 },
 "nbformat": 4,
 "nbformat_minor": 5
}
