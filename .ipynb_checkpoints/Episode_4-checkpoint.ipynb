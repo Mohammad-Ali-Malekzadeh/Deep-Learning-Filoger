{
 "cells": [
  {
   "cell_type": "markdown",
   "id": "29a8a916-85c8-4945-91f9-fcb1883d72b3",
   "metadata": {},
   "source": [
    "<section>\n",
    "    <div><img src=\"./images/Zahra-Amini.jpg\"></div>\n",
    "    <div style=\"display: flex\">\n",
    "        <div style=\"width:50%;background:#62060b\">\n",
    "            <div style=\"margin:auto;width:15rem\">\n",
    "                <img src=\"./images/filoger.png\" style=\"width:9rem; padding: 0.5rem 0;display:inline-block; vertical-align: middle\">\n",
    "                <p style=\"display:inline-block;font-family:monospace;font-weight:bold;font-size:15pt;color:white\">\n",
    "                Filoger\n",
    "                <p>\n",
    "            </div>\n",
    "        </div>\n",
    "        <div style=\"width:50%;background:#606368\">\n",
    "            <div style=\"margin:auto;width:23rem;margin-top: 3rem;\">\n",
    "                <p style=\"font-family:monospace;font-weight:bold;font-size:15pt;color:#62060b;text-align:center\">\n",
    "                Deep Learning Course\n",
    "                <p>\n",
    "                <p style=\"font-family:monospace;font-weight:bold;font-size:15pt;color:white;text-align:center\">\n",
    "                Episode 4\n",
    "                <p>\n",
    "            </div>\n",
    "        </div>\n",
    "    </div>\n",
    "</section>"
   ]
  },
  {
   "cell_type": "markdown",
   "id": "731615d7",
   "metadata": {
    "jp-MarkdownHeadingCollapsed": true
   },
   "source": [
    "# Import Lib"
   ]
  },
  {
   "cell_type": "code",
   "execution_count": 6,
   "id": "2fc53cde",
   "metadata": {},
   "outputs": [],
   "source": [
    "import pandas as pd\n",
    "import numpy as np\n",
    "import matplotlib.pyplot as plt\n",
    "\n",
    "from sklearn.datasets import fetch_california_housing\n",
    "from sklearn.model_selection import train_test_split\n",
    "from sklearn.preprocessing import StandardScaler \n",
    " \n",
    "import tensorflow as tf\n",
    "from tensorflow.keras.models import Sequential\n",
    "from tensorflow.keras.layers import Dense, Dropout\n",
    "\n",
    "from sklearn.metrics import r2_score\n",
    "\n",
    "from tensorflow.keras.optimizers import SGD\n",
    "\n",
    "from tensorflow.keras.callbacks import EarlyStopping"
   ]
  },
  {
   "cell_type": "markdown",
   "id": "b15f0be5-30d3-439f-94c3-931206338204",
   "metadata": {
    "jp-MarkdownHeadingCollapsed": true
   },
   "source": [
    "### Teacher Description"
   ]
  },
  {
   "cell_type": "markdown",
   "id": "a0040c58-38c6-44ea-83c4-f3d4fc18a323",
   "metadata": {
    "jp-MarkdownHeadingCollapsed": true
   },
   "source": [
    "<section style=\"text-align:right;direction:rtl;\">\n",
    "    pandas, numpy, matplotlib سه کتاب خوانه پایه یادگیری ماشین هستند.<br/>\n",
    "    با کمک sklearn.datasets دیتاست مریوط به قیمت خونه ها تو کالیفرنیا آورده شده.<br/>\n",
    "    train_test_split برای جدا سازی داده های آموزشی و تست آورده شده.<br/>\n",
    "    StandardScaler کار اسکیل کردن داده هارو برامون قراره انجام بده.<br/>\n",
    "    tensorflow برای ساخت مدل مون نیازه که ایمپورت کنیم.<br/>\n",
    "    این کتابخونه هارو هر بار ایمپورت میکنیم\n",
    "</section>"
   ]
  },
  {
   "cell_type": "markdown",
   "id": "129d3f08-bc30-4321-bf43-7ae53fabe319",
   "metadata": {
    "jp-MarkdownHeadingCollapsed": true
   },
   "source": [
    "### Chat-GPT Description"
   ]
  },
  {
   "cell_type": "markdown",
   "id": "e4490f80-73f4-4e77-9f6b-2e75b4443504",
   "metadata": {
    "jp-MarkdownHeadingCollapsed": true
   },
   "source": [
    "<section style=\"text-align:right;direction:rtl;\">\n",
    "    در این بخش، کتابخانه‌های مختلفی ایمپورت شده‌اند:<br/>\n",
    "    <b>'pandas':</b> برای کار با داده‌ها و ساخت DataFrame استفاده می‌شود.<br/>\n",
    "    <b>'numpy':</b> برای محاسبات عددی و کار با آرایه‌ها.<br/>\n",
    "    <b>'matplotlib.pyplot':</b> برای ایجاد نمودارها.<br/>\n",
    "    <b>'fetch_california_housing':</b> برای بارگذاری دیتاست کالیفرنیا هوزینگ.<br/>\n",
    "    <b>'train_test_split':</b> برای تقسیم داده‌ها به دو مجموعه آموزشی و تست.<br/>\n",
    "    <b>'StandardScaler':</b> برای استانداردسازی ویژگی‌های داده.<br/>\n",
    "    <b>'tensorflow و keras':</b> برای ساخت و آموزش مدل‌های یادگیری عمیق.<br/>\n",
    "    <b>'r2_score':</b> برای ارزیابی دقت مدل با استفاده از معیار R².<br/>\n",
    "    بهینه‌ساز SGD (Gradient Descent Stochastic) و کلاس EarlyStopping برای کنترل آموزش مدل وارد شده‌اند.\n",
    "</section>"
   ]
  },
  {
   "cell_type": "markdown",
   "id": "6d03f17e",
   "metadata": {
    "jp-MarkdownHeadingCollapsed": true
   },
   "source": [
    "# Load the dataset"
   ]
  },
  {
   "cell_type": "code",
   "execution_count": 8,
   "id": "9012603e",
   "metadata": {},
   "outputs": [
    {
     "data": {
      "text/html": [
       "<div>\n",
       "<style scoped>\n",
       "    .dataframe tbody tr th:only-of-type {\n",
       "        vertical-align: middle;\n",
       "    }\n",
       "\n",
       "    .dataframe tbody tr th {\n",
       "        vertical-align: top;\n",
       "    }\n",
       "\n",
       "    .dataframe thead th {\n",
       "        text-align: right;\n",
       "    }\n",
       "</style>\n",
       "<table border=\"1\" class=\"dataframe\">\n",
       "  <thead>\n",
       "    <tr style=\"text-align: right;\">\n",
       "      <th></th>\n",
       "      <th>MedInc</th>\n",
       "      <th>HouseAge</th>\n",
       "      <th>AveRooms</th>\n",
       "      <th>AveBedrms</th>\n",
       "      <th>Population</th>\n",
       "      <th>AveOccup</th>\n",
       "      <th>Latitude</th>\n",
       "      <th>Longitude</th>\n",
       "      <th>target</th>\n",
       "    </tr>\n",
       "  </thead>\n",
       "  <tbody>\n",
       "    <tr>\n",
       "      <th>0</th>\n",
       "      <td>8.3252</td>\n",
       "      <td>41.0</td>\n",
       "      <td>6.984127</td>\n",
       "      <td>1.023810</td>\n",
       "      <td>322.0</td>\n",
       "      <td>2.555556</td>\n",
       "      <td>37.88</td>\n",
       "      <td>-122.23</td>\n",
       "      <td>4.526</td>\n",
       "    </tr>\n",
       "    <tr>\n",
       "      <th>1</th>\n",
       "      <td>8.3014</td>\n",
       "      <td>21.0</td>\n",
       "      <td>6.238137</td>\n",
       "      <td>0.971880</td>\n",
       "      <td>2401.0</td>\n",
       "      <td>2.109842</td>\n",
       "      <td>37.86</td>\n",
       "      <td>-122.22</td>\n",
       "      <td>3.585</td>\n",
       "    </tr>\n",
       "    <tr>\n",
       "      <th>2</th>\n",
       "      <td>7.2574</td>\n",
       "      <td>52.0</td>\n",
       "      <td>8.288136</td>\n",
       "      <td>1.073446</td>\n",
       "      <td>496.0</td>\n",
       "      <td>2.802260</td>\n",
       "      <td>37.85</td>\n",
       "      <td>-122.24</td>\n",
       "      <td>3.521</td>\n",
       "    </tr>\n",
       "    <tr>\n",
       "      <th>3</th>\n",
       "      <td>5.6431</td>\n",
       "      <td>52.0</td>\n",
       "      <td>5.817352</td>\n",
       "      <td>1.073059</td>\n",
       "      <td>558.0</td>\n",
       "      <td>2.547945</td>\n",
       "      <td>37.85</td>\n",
       "      <td>-122.25</td>\n",
       "      <td>3.413</td>\n",
       "    </tr>\n",
       "    <tr>\n",
       "      <th>4</th>\n",
       "      <td>3.8462</td>\n",
       "      <td>52.0</td>\n",
       "      <td>6.281853</td>\n",
       "      <td>1.081081</td>\n",
       "      <td>565.0</td>\n",
       "      <td>2.181467</td>\n",
       "      <td>37.85</td>\n",
       "      <td>-122.25</td>\n",
       "      <td>3.422</td>\n",
       "    </tr>\n",
       "  </tbody>\n",
       "</table>\n",
       "</div>"
      ],
      "text/plain": [
       "   MedInc  HouseAge  AveRooms  AveBedrms  Population  AveOccup  Latitude  \\\n",
       "0  8.3252      41.0  6.984127   1.023810       322.0  2.555556     37.88   \n",
       "1  8.3014      21.0  6.238137   0.971880      2401.0  2.109842     37.86   \n",
       "2  7.2574      52.0  8.288136   1.073446       496.0  2.802260     37.85   \n",
       "3  5.6431      52.0  5.817352   1.073059       558.0  2.547945     37.85   \n",
       "4  3.8462      52.0  6.281853   1.081081       565.0  2.181467     37.85   \n",
       "\n",
       "   Longitude  target  \n",
       "0    -122.23   4.526  \n",
       "1    -122.22   3.585  \n",
       "2    -122.24   3.521  \n",
       "3    -122.25   3.413  \n",
       "4    -122.25   3.422  "
      ]
     },
     "execution_count": 8,
     "metadata": {},
     "output_type": "execute_result"
    }
   ],
   "source": [
    "data = fetch_california_housing()\n",
    "\n",
    "df = pd.DataFrame(data.data, columns=data.feature_names)\n",
    "\n",
    "df['target'] = data.target\n",
    "\n",
    "df.head()"
   ]
  },
  {
   "cell_type": "markdown",
   "id": "6625eb06-fdaf-453c-913c-83fbfbcc61e0",
   "metadata": {
    "jp-MarkdownHeadingCollapsed": true
   },
   "source": [
    "### Teacher Description"
   ]
  },
  {
   "cell_type": "markdown",
   "id": "a29781d7-bfa0-420d-908e-6f5f84b6f49c",
   "metadata": {},
   "source": [
    "<section style=\"text-align:right;direction:rtl;\">\n",
    "    <b>fetch_california_housing():</b> با کمک این تابع، داده های ما فراخوانی میشن و اونو داخل یه متغییر قرار دادیم.<br/>\n",
    "    <b>pd.DataFrame(data.data, columns=data.feature_names):</b> میخوایم دیتا هامون رو بصورت دیتا فریم پانداز در بیاریم که x مون مقادیر و y اسم ستون هاست.<br/>\n",
    "    <b>df['target'] = data.target:</b> یک ستون دیگه اضافه میکنیم به اسم تارگت و target داخل دیتا رو توش قرار میدیم.<br/>\n",
    "</section>"
   ]
  },
  {
   "cell_type": "markdown",
   "id": "4a8fd856",
   "metadata": {
    "jp-MarkdownHeadingCollapsed": true
   },
   "source": [
    "# Split the data into training and test sets"
   ]
  },
  {
   "cell_type": "code",
   "execution_count": 10,
   "id": "00775ddb",
   "metadata": {},
   "outputs": [],
   "source": [
    "# x,y ---> x_train, x_test, y_train, y_test\n",
    "\n",
    "x = df.drop('target', axis=1)\n",
    "\n",
    "y = df['target']"
   ]
  },
  {
   "cell_type": "markdown",
   "id": "4e7b6e05-8fad-4658-9cc8-33c858e9df2d",
   "metadata": {},
   "source": [
    "### Teacher Description"
   ]
  },
  {
   "cell_type": "markdown",
   "id": "00209563-ce98-4e9d-a5ef-67c88bde31d9",
   "metadata": {},
   "source": [
    "<section style=\"text-align:right;direction:rtl;\">\n",
    "    <b>x = df.drop('target', axis = 1):</b> برای اینکه به ستون های x برسیم، ستون target و مقادیرش حذف میکنیم و بقیه رو نگه میداریم. axis روی 1 تنظیم شده تا target مون تو ستون ها جست و جو بشه برای حذف اون ستون.\n",
    "</section>"
   ]
  },
  {
   "cell_type": "code",
   "execution_count": 12,
   "id": "727cd805",
   "metadata": {},
   "outputs": [
    {
     "data": {
      "text/plain": [
       "(20640, 8)"
      ]
     },
     "execution_count": 12,
     "metadata": {},
     "output_type": "execute_result"
    }
   ],
   "source": [
    "x.shape"
   ]
  },
  {
   "cell_type": "code",
   "execution_count": 14,
   "id": "66daf645",
   "metadata": {},
   "outputs": [
    {
     "data": {
      "text/plain": [
       "(20640,)"
      ]
     },
     "execution_count": 14,
     "metadata": {},
     "output_type": "execute_result"
    }
   ],
   "source": [
    "y.shape"
   ]
  },
  {
   "cell_type": "markdown",
   "id": "e288a445-b149-4a49-9305-ddf739a884e0",
   "metadata": {},
   "source": [
    "### Teacher Description"
   ]
  },
  {
   "cell_type": "markdown",
   "id": "036666c8-8d02-463f-81ab-b84e56c08f16",
   "metadata": {},
   "source": [
    "<section style=\"text-align:right;direction:rtl;\">\n",
    "    چون یدونه ستون بیشتر نداریم فقط کاما گذاشته شده\n",
    "</section>"
   ]
  },
  {
   "cell_type": "code",
   "execution_count": 16,
   "id": "51646acf",
   "metadata": {},
   "outputs": [],
   "source": [
    "x_train, x_test, y_train, y_test = train_test_split(x,y, test_size=0.2, random_state=42)"
   ]
  },
  {
   "cell_type": "markdown",
   "id": "167dd0e9-192c-47d0-b824-ff86081fbc86",
   "metadata": {},
   "source": [
    "### Teacher Description"
   ]
  },
  {
   "cell_type": "markdown",
   "id": "bb9ac7bc-cd7f-485c-9bf3-cadfef0a45a0",
   "metadata": {},
   "source": [
    "|<section style=\"text-align:right;direction:rtl;\">\n",
    "    حواسمون باشه که x_train, x_test, y_train, y_test ها باید به ترتیب باشند.<br/>\n",
    "    <b>train_test_split(x,y):</b> میاد x رو به 2 قسمت و y رو به 2 قسمت تبدیل میکنه و دو به دو به ترتیبی که بالا بهش اشاره شد جاگذاری میکنه.<br/>\n",
    "    <b>test_size=0.2:</b> تو جزوه هم اشاره شده که 20 درصد داده ها رو به عنوان تست و 80 درصد اون رو به عنوان داده آموزشی استفاده میکنیم.<br/>\n",
    "    <b>random_state=42:</b> کاری که میکنه این است که شما زمانی که کد رو بار های مختلف اجرا کنیم، دیگه نتایج تغییر نمیکنه\n",
    "    د،ر اصل ما باید بصورت رندوم داده های آموزشی و تست رو برداریم، برای اینکه عدد های تصادفی که با اونها داده ها برداشته میشن بصورت ثابت باشن generation seed برای دنباله تصادفی که ساخته میشه تعریف میکنیم. میتونه هر عددی باشد. هر دفعه که این سلول کد رو اجرا کنیم داده های آموزشی و تست یکسان میشه و اگر ست نکنیم هر بار نتایج فرق خواهد کرد.\n",
    "</section>"
   ]
  },
  {
   "cell_type": "code",
   "execution_count": 18,
   "id": "086f0b44",
   "metadata": {},
   "outputs": [
    {
     "data": {
      "text/plain": [
       "(16512, 8)"
      ]
     },
     "execution_count": 18,
     "metadata": {},
     "output_type": "execute_result"
    }
   ],
   "source": [
    "x_train.shape"
   ]
  },
  {
   "cell_type": "code",
   "execution_count": 20,
   "id": "6d67a07e",
   "metadata": {},
   "outputs": [
    {
     "data": {
      "text/plain": [
       "(4128, 8)"
      ]
     },
     "execution_count": 20,
     "metadata": {},
     "output_type": "execute_result"
    }
   ],
   "source": [
    "x_test.shape"
   ]
  },
  {
   "cell_type": "markdown",
   "id": "209c58be",
   "metadata": {
    "jp-MarkdownHeadingCollapsed": true
   },
   "source": [
    "# Scale the features"
   ]
  },
  {
   "cell_type": "code",
   "execution_count": 22,
   "id": "e0a04c7f",
   "metadata": {},
   "outputs": [],
   "source": [
    "scaler = StandardScaler()\n",
    "\n",
    "x_train = scaler.fit_transform(x_train)\n",
    "\n",
    "x_test = scaler.transform(x_test)"
   ]
  },
  {
   "cell_type": "markdown",
   "id": "fd573ec8-6124-4ad1-b173-28fd274e9065",
   "metadata": {
    "jp-MarkdownHeadingCollapsed": true
   },
   "source": [
    "### Teacher Description"
   ]
  },
  {
   "cell_type": "markdown",
   "id": "0ff3cbc2-4ed2-45e6-bb1a-d0565dbaef77",
   "metadata": {},
   "source": [
    "<section style=\"text-align:right;direction:rtl;\">\n",
    "    Scaling رو فقط روی x ها اعمال خواهیم کرد و اصلا روی y ها نباید اینکار صورت بگیره.<br/>\n",
    "    <b>scaler = StandardScaler():</b> برای اینکار ابتدا باید یک scaler بسازیم.<br/>\n",
    "     میخوایم scaler فیت بشه و هم منتقل بشه روی داده های x_train.<br/>\n",
    "    روی داده های تست کافیه فقط منتقل بشه.<br/><br/>\n",
    "    معمولا standard scaler روی داده های regression مثل همین دیتاست house price بهتر عمل میکنه ولی انتخاب کردن بین normalization و scaler قلق داره و کسایی که دیتا ساینس بلدهستن و آمار مربوط بهش بلدن خیلی خوب متوجه میشن. اگه فعلا علمش رو نداریم میتونیم با آزمون و خطا به این مسعله پی ببریم.<br/>\n",
    "    اولین کار برای تشخیص مسعله بالا این است که پارامتر هایی مثل  Deviation و Mean که روی distribusion (توزیع) داده ها تاثیر دارن رو محاسبه میکنیم و نسبت به distribusionکه داریم تصمیم میگیریم که داده هارو بین -z تا z محدود کنیم یا از 0 تا z.<br/>\n",
    "    transform کار اسکیل کردن رو انجام میدهد.\n",
    "</section>"
   ]
  },
  {
   "cell_type": "markdown",
   "id": "9cdc09c2-4ab7-42ee-b3a4-91bd7831f842",
   "metadata": {
    "jp-MarkdownHeadingCollapsed": true
   },
   "source": [
    "### Chat-GPT Description"
   ]
  },
  {
   "cell_type": "markdown",
   "id": "6713c26b-28a8-4fcd-99dc-c2d9f81ae9dd",
   "metadata": {},
   "source": [
    "<section style=\"text-align:right;direction:rtl;\">\n",
    "    Deviation (انحراف معیار) و Mean (میانگین) مستقیماً بر روی توزیع (distribution) داده‌ها تاثیر می‌گذارند. در ادامه، نحوه تأثیر هر یک از این مفاهیم بر توزیع داده‌ها را توضیح می‌دهم:<br/>\n",
    "    <h4>1. Mean (میانگین)</h4>\n",
    "    میانگین نشان‌دهنده مقدار مرکزی یا متوسط یک مجموعه داده است. در توزیع نرمال (Normal Distribution)، میانگین همان نقطه مرکزی توزیع است.<br/>\n",
    "    <b>تاثیر بر توزیع:</b>اگر میانگین داده‌ها تغییر کند، مکان توزیع به چپ یا راست انتقال می‌یابد، اما شکل کلی توزیع (مثلاً پهنای آن) تغییر نمی‌کند. به عبارتی، تغییر میانگین باعث تغییر مکان توزیع روی محور افقی می‌شود، اما تاثیری بر روی پراکندگی داده‌ها ندارد.\n",
    "    <h4>2. Standard Deviation (انحراف معیار)</h4>\n",
    "    انحراف معیار نشان‌دهنده میزان پراکندگی داده‌ها نسبت به میانگین است. انحراف معیار بزرگتر به معنای پراکندگی بیشتر داده‌ها و انحراف معیار کوچکتر به معنای تمرکز بیشتر داده‌ها حول میانگین است.<br/>\n",
    "    <b>تاثیر بر توزیع:</b>اگر انحراف معیار تغییر کند، شکل توزیع تغییر می‌کند. انحراف معیار بالاتر باعث پهن‌تر شدن توزیع و انحراف معیار پایین‌تر باعث تنگ‌تر شدن توزیع می‌شود. در توزیع نرمال، افزایش انحراف معیار باعث پهن‌تر شدن و کاهش آن باعث باریک‌تر شدن قله توزیع می‌شود.\n",
    "    <h4>در کل:</h4>\n",
    "    <b>Mean</b> مکان توزیع را تعیین می‌کند، یعنی داده‌ها به سمت چه مقداری گرایش دارند.<br/>\n",
    "    <b>Standard Deviation</b> میزان پراکندگی داده‌ها حول این مقدار مرکزی را تعیین می‌کند، یعنی چقدر داده‌ها از میانگین فاصله می‌گیرند.<br/>\n",
    "    این دو عامل با هم شکل و مکان توزیع داده‌ها را تعریف می‌کنند و در یادگیری ماشین، مخصوصاً در فرآیند نرمال‌سازی، برای بهینه‌سازی مدل‌ها به کار می‌روند.\n",
    "</section>\n",
    "\n",
    "<section style=\"text-align:right;direction:rtl;\">\n",
    "    <h4>چرا استانداردسازی داده‌ها مهم است؟</h4>\n",
    "    در یادگیری ماشین و به خصوص در الگوریتم‌های یادگیری عمیق، ویژگی‌های ورودی (یا داده‌ها) نقش مهمی دارند. داده‌ها معمولاً مقادیر و واحدهای مختلفی دارند؛ برای مثال، در یک دیتاست ممکن است یک ویژگی مقادیر کوچکی مانند 0.1 یا 0.2 داشته باشد، در حالی که ویژگی دیگری مقادیر بزرگتری مثل 1000 یا 2000 داشته باشد.<br/>\n",
    "    این اختلاف در مقیاس و دامنه مقادیر می‌تواند مشکلاتی ایجاد کند:<br/>\n",
    "    <b>سختی در یادگیری مدل:</b> مدل‌های یادگیری ماشین ممکن است نسبت به این تفاوت‌ها حساس باشند و در نتیجه یادگیری را به درستی انجام ندهند. این موضوع به ویژه در الگوریتم‌هایی که بر اساس فاصله‌ها یا گرادیان‌ها کار می‌کنند (مثل رگرسیون خطی یا شبکه‌های عصبی) اهمیت دارد.<br/>\n",
    "    <b>پایین آمدن دقت مدل:</b> مدل ممکن است به ویژگی‌هایی با مقیاس بزرگتر توجه بیشتری کند و ویژگی‌های با مقیاس کوچکتر را نادیده بگیرد. این باعث کاهش دقت پیش‌بینی‌ها می‌شود.\n",
    "    <h4>استانداردسازی داده‌ها چیست؟</h4>\n",
    "    استانداردسازی یا Normalization و Standardization دو روش رایج برای تغییر مقیاس داده‌ها هستند. در اینجا ما بیشتر بر روی استانداردسازی تمرکز می‌کنیم.<br/>\n",
    "    استانداردسازی (Standardization): در این روش، داده‌ها به طوری تغییر می‌کنند که میانگین مقادیر هر ویژگی صفر و انحراف معیار آن برابر با یک باشد. فرمول استانداردسازی به صورت زیر است:<br/>\n",
    "    𝑍 = 𝑋 - 𝜇 / 𝜎<br/>\n",
    "    <b>X:</b> مقدار اصلی ویژگی.\n",
    "    <b>μ:</b> میانگین آن ویژگی در مجموعه داده.<br/>\n",
    "    <b>σ:</b> انحراف معیار آن ویژگی در مجموعه داده.<br/>\n",
    "    پس از استانداردسازی، داده‌ها به یک مقیاس مشابه می‌رسند و مدل یادگیری بهتر و دقیق‌تری خواهد داشت.<br/>\n",
    "    <h4>چگونه استانداردسازی در کد پیاده‌سازی می‌شود؟</h4>\n",
    "    در کد شما، برای استانداردسازی از کلاس StandardScaler از کتابخانه sklearn استفاده شده است:\n",
    "    <code style=\"display:block; text-align:left;direction:ltr\">\n",
    "    scaler = StandardScaler()\n",
    "    X_train = scaler.fit_transform(X_train)\n",
    "    X_test = scaler.transform(X_test)\n",
    "    </code>\n",
    "    <b>گام‌های انجام استانداردسازی:</b>\n",
    "    <b>ایجاد یک شیء از StandardScaler:</b>\n",
    "    <code style=\"display:block; text-align:left;direction:ltr\">\n",
    "    scaler = StandardScaler()\n",
    "    </code>\n",
    "    این شیء تنظیمات استانداردسازی را برای داده‌ها نگه می‌دارد.\n",
    "    <b>آموزش و اعمال استانداردسازی روی داده‌های آموزشی:</b>\n",
    "    <code style=\"display:block; text-align:left;direction:ltr\">\n",
    "    X_train = scaler.fit_transform(X_train)\n",
    "    </code>\n",
    "    در این مرحله:<br/>\n",
    "    <b>'fit':</b> میانگین و انحراف معیار را از داده‌های آموزشی محاسبه می‌کند.<br/>\n",
    "    <b>'transform':</b> داده‌ها را با استفاده از مقادیر محاسبه‌شده (میانگین و انحراف معیار) استانداردسازی می‌کند.<br/>\n",
    "    <b>استانداردسازی داده‌های تست:</b>\n",
    "    <code style=\"display:block; text-align:left;direction:ltr\">\n",
    "    X_test = scaler.transform(X_test)\n",
    "    </code>\n",
    "    در این مرحله، داده‌های تست با استفاده از مقادیر میانگین و انحراف معیاری که از داده‌های آموزشی محاسبه شده بود، استانداردسازی می‌شوند.\n",
    "    <h4>چرا این کار انجام می‌شود؟</h4>\n",
    "    مهم است که استانداردسازی داده‌های تست با همان پارامترهای داده‌های آموزشی انجام شود، زیرا:<br/>\n",
    "    <b>یکپارچگی:</b> مدل باید داده‌های تست را همانند داده‌های آموزشی ببیند، بنابراین از همان مقادیر میانگین و انحراف معیار استفاده می‌شود.<br/>\n",
    "    <b>دقت پیش‌بینی:</b> استفاده از مقادیر جدید برای داده‌های تست (یعنی محاسبه‌ی دوباره‌ی میانگین و انحراف معیار) می‌تواند باعث شود که داده‌های تست به درستی ارزیابی نشوند.\n",
    "    <h4>جمع‌بندی:</h4>\n",
    "    استانداردسازی داده‌ها، فرآیندی است که باعث می‌شود داده‌ها به یک مقیاس مشترک برسند، که این امر باعث بهبود دقت و کارایی مدل‌های یادگیری ماشین می‌شود. این کار به‌ویژه زمانی مهم است که داده‌های شما دارای مقیاس‌های بسیار متفاوت باشند.\n",
    "</section>"
   ]
  },
  {
   "cell_type": "code",
   "execution_count": 24,
   "id": "cb54d821",
   "metadata": {},
   "outputs": [
    {
     "data": {
      "text/plain": [
       "array([[-0.326196  ,  0.34849025, -0.17491646, ...,  0.05137609,\n",
       "        -1.3728112 ,  1.27258656],\n",
       "       [-0.03584338,  1.61811813, -0.40283542, ..., -0.11736222,\n",
       "        -0.87669601,  0.70916212],\n",
       "       [ 0.14470145, -1.95271028,  0.08821601, ..., -0.03227969,\n",
       "        -0.46014647, -0.44760309],\n",
       "       ...,\n",
       "       [-0.49697313,  0.58654547, -0.60675918, ...,  0.02030568,\n",
       "        -0.75500738,  0.59946887],\n",
       "       [ 0.96545045, -1.07984112,  0.40217517, ...,  0.00707608,\n",
       "         0.90651045, -1.18553953],\n",
       "       [-0.68544764,  1.85617335, -0.85144571, ..., -0.08535429,\n",
       "         0.99543676, -1.41489815]])"
      ]
     },
     "execution_count": 24,
     "metadata": {},
     "output_type": "execute_result"
    }
   ],
   "source": [
    "x_train"
   ]
  },
  {
   "cell_type": "markdown",
   "id": "07977f96",
   "metadata": {
    "jp-MarkdownHeadingCollapsed": true
   },
   "source": [
    "# Build the neural network model"
   ]
  },
  {
   "cell_type": "code",
   "execution_count": 26,
   "id": "c2d5efc9",
   "metadata": {},
   "outputs": [
    {
     "name": "stderr",
     "output_type": "stream",
     "text": [
      "C:\\Users\\MA_Malekzadeh\\AppData\\Roaming\\Python\\Python312\\site-packages\\keras\\src\\layers\\core\\dense.py:87: UserWarning: Do not pass an `input_shape`/`input_dim` argument to a layer. When using Sequential models, prefer using an `Input(shape)` object as the first layer in the model instead.\n",
      "  super().__init__(activity_regularizer=activity_regularizer, **kwargs)\n"
     ]
    }
   ],
   "source": [
    "model = Sequential()\n",
    "model.add(Dense(128, activation='relu', input_shape=(x_train.shape[1],)))\n",
    "model.add(Dense(64, activation='relu'))\n",
    "model.add(Dense(32, activation='relu'))\n",
    "model.add(Dense(1))"
   ]
  },
  {
   "cell_type": "markdown",
   "id": "d210f47d-fbd5-45ce-ad85-e1aa6a129c5d",
   "metadata": {},
   "source": [
    "### Teacher Description"
   ]
  },
  {
   "cell_type": "markdown",
   "id": "da142eff-3771-4b22-94af-f2967a6c137d",
   "metadata": {},
   "source": [
    "<section style=\"text-align:right;direction:rtl;\">\n",
    "    با دستور Sequential() یک مدل میسازیم و کاری که انجام میده اینه که دنباله ای از چیزهارو بهم وصل میکند.<br>\n",
    "    بعد باید لایه هارو اضافه کنیم. به هرکدوم از لایه ها که شامل input,hidden,output هست رو یک Dense میگیم.\n",
    "    <h4>لایه اول:</h4>\n",
    "    تو لایه اول میخوایم 128  تا نورون باشه و اکتیویشن فانکشن رو relu قرار میدیم بخاطر مثبت بودن در رگرسیون.<br/>\n",
    "    <b>x_train.shape[1]:</b> عدد 8 رو برمیگردونه چون 8 تا feature داشتیم تو دیتاست.<br/>\n",
    "    <b>input_shape=(x_train.shape[1],):</b> کاما بخاطر این گذاشته شده که وکتور عمودی باشه.<br/>\n",
    "    چون 8 تا ورودی داریم برای مدل، تو لایه اول شکل ورودی مون رو بصورت عمودی با 8 ورودی در نظر گرفتیم.\n",
    "    <h4>لایه دوم:</h4>\n",
    "    لایه بعدی 64 نورون داره و activation function مون رو relu درنظر میگیرم\n",
    "    <h4>لایه سوم:</h4>\n",
    "    لایه بعدی 32 نورون داره و activation function مون رو relu درنظر میگیرم\n",
    "    <h4>لایه آخر:</h4>\n",
    "    یدونه نورون داریم پس روی 1 تنظیم میکنیم.\n",
    "</section>"
   ]
  },
  {
   "cell_type": "markdown",
   "id": "37bf1084-f81d-49b4-9008-18ea2dce0629",
   "metadata": {},
   "source": [
    "### Chat-GPT Description"
   ]
  },
  {
   "cell_type": "markdown",
   "id": "69d64eb2-1d31-4a8e-9500-675e07f0cb02",
   "metadata": {},
   "source": [
    "<section style=\"text-align:right;direction:rtl;\">\n",
    "    <h4>Keras چیست؟</h4>\n",
    "    Keras یک کتابخانه سطح بالا برای ساخت و آموزش مدل‌های یادگیری عمیق است که بر روی کتابخانه‌هایی مانند TensorFlow اجرا می‌شود. این کتابخانه استفاده از شبکه‌های عصبی پیچیده را به‌سادگی و با کدهای مختصر امکان‌پذیر می‌کند.<br/>\n",
    "    <h4>ساخت مدل با Keras</h4>\n",
    "    در کد شما، یک مدل شبکه عصبی ساده با استفاده از Keras ساخته شده است. این شبکه برای انجام رگرسیون خطی (پیش‌بینی مقدار پیوسته) استفاده می‌شود.<br/><br/>\n",
    "    <b>کد مربوطه:</b>\n",
    "</section>\n",
    "\n",
    "<code style=\"display:block; text-align:left;direction:ltr\">model = Sequential([\n",
    "        Dense(64, activation='relu', input_shape=(X_train.shape[1],)),\n",
    "        Dropout(0.5),\n",
    "        Dense(64, activation='relu'),\n",
    "        Dense(1)\n",
    "    ])\n",
    "    model.compile(optimizer=SGD(), loss='mse', metrics=['mae'])\n",
    "</code>\n",
    "\n",
    "<section style=\"text-align:right;direction:rtl;\">\n",
    "    اجازه دهید این کد را به صورت گام به گام توضیح دهم.\n",
    "    <h4>1. ساختار مدل (Model Architecture)</h4>\n",
    "    در Keras، مدل‌ها معمولاً به دو روش ساخته می‌شوند: مدل ترتیبی (Sequential) و مدل تابعی (Functional). در اینجا، از مدل ترتیبی استفاده شده است.<br/><br/>\n",
    "    <b>1.1 مدل ترتیبی (Sequential Model)<b>\n",
    "</section>\n",
    "    \n",
    "<code style=\"display:block; text-align:left;direction:ltr\">model = Sequential([\n",
    "    # Layers\n",
    "])\n",
    "</code>\n",
    "\n",
    "<section style=\"text-align:right;direction:rtl;\">\n",
    "    <b>Sequential:</b> این نوع مدل به شما اجازه می‌دهد لایه‌ها را به ترتیب به مدل اضافه کنید. هر لایه به عنوان ورودی برای لایه بعدی عمل می‌کند.<br>\n",
    "    <b>1.2 لایه‌های شبکه عصبی (Layers of the Neural Network)</b><br>\n",
    "    لایه‌ها واحدهای اساسی در شبکه‌های عصبی هستند. هر لایه عملیاتی بر روی داده‌های ورودی انجام می‌دهد و خروجی خود را به لایه بعدی ارسال می‌کند.<br><br>\n",
    "    <b>1.2.1 لایه Dense (Dense Layer)</b>\n",
    "</section>\n",
    "\n",
    "<code style=\"display:block; text-align:left;direction:ltr\">Dense(64, activation='relu', input_shape=(X_train.shape[1],))</code>\n",
    "\n",
    "<section style=\"text-align:right;direction:rtl;\">\n",
    "    <b>Dense:</b> این لایه یکی از رایج‌ترین لایه‌ها در شبکه‌های عصبی است. در این لایه، هر نورون (واحد) به تمام نورون‌های لایه قبلی متصل است. به این لایه‌ها گاهی \"کاملاً متصل\" یا \"فولی‌کانکتد\" گفته می‌شود.<br/>\n",
    "    <b>64:</b> تعداد نورون‌های این لایه است. در اینجا 64 نورون وجود دارد.<br/>\n",
    "    <b>activation='relu':</b> تابع فعال‌سازی برای نورون‌ها. تابع ReLU (Rectified Linear Unit) یکی از محبوب‌ترین توابع فعال‌سازی است که مقادیر منفی را به صفر تبدیل می‌کند و مقادیر مثبت را به همان صورت نگه می‌دارد. این تابع به مدل کمک می‌کند تا الگوهای پیچیده‌تری را یاد بگیرد.<br/>\n",
    "    <b>input_shape=(X_train.shape[1],):</b> شکل ورودی به این لایه. این بخش فقط در اولین لایه مشخص می‌شود. X_train.shape[1] تعداد ویژگی‌های ورودی است (تعداد ستون‌های دیتاست آموزشی).<br/><br/>\n",
    "    <b>1.2.2 لایه Dropout</b>\n",
    "</section>\n",
    "\n",
    "<code style=\"display:block; text-align:left;direction:ltr\">Dropout(0.5)</code>\n",
    "\n",
    "<section style=\"text-align:right;direction:rtl;\">\n",
    "    <b>Dropout:</b> این لایه به منظور جلوگیری از overfitting (یادگیری بیش از حد مدل روی داده‌های آموزشی) استفاده می‌شود. در حین آموزش، این لایه به‌صورت تصادفی برخی از نورون‌ها را غیر فعال می‌کند.<br/>\n",
    "    <b>0.5:</b> این مقدار نشان می‌دهد که 50% از نورون‌ها به صورت تصادفی در هر مرحله غیرفعال می‌شوند. این کار باعث می‌شود مدل به جای اتکا به چند ویژگی، الگوهای متنوع‌تری را یاد بگیرد.<br/><br/>\n",
    "    <b>1.2.3 لایه دوم Dense</b>\n",
    "</section>\n",
    "\n",
    "<code style=\"display:block; text-align:left;direction:ltr\">Dense(64, activation='relu')</code>\n",
    "\n",
    "<section style=\"text-align:right;direction:rtl;\">\n",
    "    این لایه دقیقاً مشابه اولین لایه Dense است و 64 نورون دارد و از تابع فعال‌سازی ReLU استفاده می‌کند. این لایه به مدل کمک می‌کند تا الگوهای پیچیده‌تر را یاد بگیرد.<br/><br/>\n",
    "    <b>1.2.4 لایه خروجی (Output Layer)</b>\n",
    "</section>\n",
    "\n",
    "<code style=\"display:block; text-align:left;direction:ltr\">Dense(1)</code>\n",
    "\n",
    "<section style=\"text-align:right;direction:rtl;\">\n",
    "    <b>Dense(1):</b> این لایه تنها یک نورون دارد. چون ما در حال انجام یک مسئله رگرسیون هستیم که هدف آن پیش‌بینی یک مقدار عددی پیوسته (مانند قیمت مسکن) است، تنها یک نورون در لایه خروجی کافی است.<br/>\n",
    "    این لایه تابع فعال‌سازی ندارد، چرا که هدف ما پیش‌بینی یک مقدار عددی است و نیاز به تغییر شکل خروجی نداریم.<br/>\n",
    "    <h4>2. کامپایل کردن مدل (Model Compilation)</h4>\n",
    "    بعد از تعریف ساختار مدل، ما باید آن را کامپایل کنیم. در این مرحله، ما به مدل می‌گوییم که از چه بهینه‌سازی (optimizer)، چه تابع زیانی (loss function) و چه معیارهایی (metrics) استفاده کند.\n",
    "</section>\n",
    "\n",
    "\n",
    "<code style=\"display:block; text-align:left;direction:ltr\">model.compile(optimizer=SGD(), loss='mse', metrics=['mae'])</code>\n",
    "\n",
    "<section style=\"text-align:right;direction:rtl;\">\n",
    "    <b>2.1 بهینه‌سازی (Optimizer)</b><br/>\n",
    "    <b>SGD (Stochastic Gradient Descent):</b> این یک الگوریتم بهینه‌سازی است که برای کمینه کردن تابع زیان استفاده می‌شود. SGD به‌صورت تصادفی وزن‌های مدل را به‌روز می‌کند تا تابع زیان به مقدار کمینه خود برسد.<br/>\n",
    "    <b>2.2 تابع زیان (Loss Function)</b><br/>\n",
    "    <b>MSE (Mean Squared Error):</b> این تابع زیان برای مسائل رگرسیون مناسب است. این تابع میانگین مربعات تفاوت بین پیش‌بینی مدل و مقادیر واقعی را محاسبه می‌کند. هدف این است که این مقدار را تا حد امکان کمینه کنیم.<br/>\n",
    "    <b>2.3 معیار ارزیابی (Metrics)</b><br/>\n",
    "    <b>MAE (Mean Absolute Error):</b> این معیار میانگین قدر مطلق تفاوت‌های بین مقادیر پیش‌بینی‌شده و واقعی را محاسبه می‌کند. این معیار به عنوان یک معیار ارزیابی برای عملکرد مدل استفاده می‌شود.\n",
    "    <h4>جمع‌بندی:</h4>\n",
    "    در این بخش، یک مدل شبکه عصبی ساده با استفاده از Keras ساخته شده که شامل لایه‌های Dense و Dropout است. مدل برای حل یک مسئله رگرسیون طراحی شده و با استفاده از بهینه‌سازی SGD و تابع زیان MSE کامپایل شده است. این مدل به شما کمک می‌کند تا بتوانید پیش‌بینی‌های عددی دقیقی انجام دهید.\n",
    "</section>"
   ]
  },
  {
   "cell_type": "code",
   "execution_count": 28,
   "id": "46124d78",
   "metadata": {},
   "outputs": [
    {
     "data": {
      "text/html": [
       "<pre style=\"white-space:pre;overflow-x:auto;line-height:normal;font-family:Menlo,'DejaVu Sans Mono',consolas,'Courier New',monospace\"><span style=\"font-weight: bold\">Model: \"sequential\"</span>\n",
       "</pre>\n"
      ],
      "text/plain": [
       "\u001b[1mModel: \"sequential\"\u001b[0m\n"
      ]
     },
     "metadata": {},
     "output_type": "display_data"
    },
    {
     "data": {
      "text/html": [
       "<pre style=\"white-space:pre;overflow-x:auto;line-height:normal;font-family:Menlo,'DejaVu Sans Mono',consolas,'Courier New',monospace\">┏━━━━━━━━━━━━━━━━━━━━━━━━━━━━━━━━━━━━━━┳━━━━━━━━━━━━━━━━━━━━━━━━━━━━━┳━━━━━━━━━━━━━━━━━┓\n",
       "┃<span style=\"font-weight: bold\"> Layer (type)                         </span>┃<span style=\"font-weight: bold\"> Output Shape                </span>┃<span style=\"font-weight: bold\">         Param # </span>┃\n",
       "┡━━━━━━━━━━━━━━━━━━━━━━━━━━━━━━━━━━━━━━╇━━━━━━━━━━━━━━━━━━━━━━━━━━━━━╇━━━━━━━━━━━━━━━━━┩\n",
       "│ dense (<span style=\"color: #0087ff; text-decoration-color: #0087ff\">Dense</span>)                        │ (<span style=\"color: #00d7ff; text-decoration-color: #00d7ff\">None</span>, <span style=\"color: #00af00; text-decoration-color: #00af00\">128</span>)                 │           <span style=\"color: #00af00; text-decoration-color: #00af00\">1,152</span> │\n",
       "├──────────────────────────────────────┼─────────────────────────────┼─────────────────┤\n",
       "│ dense_1 (<span style=\"color: #0087ff; text-decoration-color: #0087ff\">Dense</span>)                      │ (<span style=\"color: #00d7ff; text-decoration-color: #00d7ff\">None</span>, <span style=\"color: #00af00; text-decoration-color: #00af00\">64</span>)                  │           <span style=\"color: #00af00; text-decoration-color: #00af00\">8,256</span> │\n",
       "├──────────────────────────────────────┼─────────────────────────────┼─────────────────┤\n",
       "│ dense_2 (<span style=\"color: #0087ff; text-decoration-color: #0087ff\">Dense</span>)                      │ (<span style=\"color: #00d7ff; text-decoration-color: #00d7ff\">None</span>, <span style=\"color: #00af00; text-decoration-color: #00af00\">32</span>)                  │           <span style=\"color: #00af00; text-decoration-color: #00af00\">2,080</span> │\n",
       "├──────────────────────────────────────┼─────────────────────────────┼─────────────────┤\n",
       "│ dense_3 (<span style=\"color: #0087ff; text-decoration-color: #0087ff\">Dense</span>)                      │ (<span style=\"color: #00d7ff; text-decoration-color: #00d7ff\">None</span>, <span style=\"color: #00af00; text-decoration-color: #00af00\">1</span>)                   │              <span style=\"color: #00af00; text-decoration-color: #00af00\">33</span> │\n",
       "└──────────────────────────────────────┴─────────────────────────────┴─────────────────┘\n",
       "</pre>\n"
      ],
      "text/plain": [
       "┏━━━━━━━━━━━━━━━━━━━━━━━━━━━━━━━━━━━━━━┳━━━━━━━━━━━━━━━━━━━━━━━━━━━━━┳━━━━━━━━━━━━━━━━━┓\n",
       "┃\u001b[1m \u001b[0m\u001b[1mLayer (type)                        \u001b[0m\u001b[1m \u001b[0m┃\u001b[1m \u001b[0m\u001b[1mOutput Shape               \u001b[0m\u001b[1m \u001b[0m┃\u001b[1m \u001b[0m\u001b[1m        Param #\u001b[0m\u001b[1m \u001b[0m┃\n",
       "┡━━━━━━━━━━━━━━━━━━━━━━━━━━━━━━━━━━━━━━╇━━━━━━━━━━━━━━━━━━━━━━━━━━━━━╇━━━━━━━━━━━━━━━━━┩\n",
       "│ dense (\u001b[38;5;33mDense\u001b[0m)                        │ (\u001b[38;5;45mNone\u001b[0m, \u001b[38;5;34m128\u001b[0m)                 │           \u001b[38;5;34m1,152\u001b[0m │\n",
       "├──────────────────────────────────────┼─────────────────────────────┼─────────────────┤\n",
       "│ dense_1 (\u001b[38;5;33mDense\u001b[0m)                      │ (\u001b[38;5;45mNone\u001b[0m, \u001b[38;5;34m64\u001b[0m)                  │           \u001b[38;5;34m8,256\u001b[0m │\n",
       "├──────────────────────────────────────┼─────────────────────────────┼─────────────────┤\n",
       "│ dense_2 (\u001b[38;5;33mDense\u001b[0m)                      │ (\u001b[38;5;45mNone\u001b[0m, \u001b[38;5;34m32\u001b[0m)                  │           \u001b[38;5;34m2,080\u001b[0m │\n",
       "├──────────────────────────────────────┼─────────────────────────────┼─────────────────┤\n",
       "│ dense_3 (\u001b[38;5;33mDense\u001b[0m)                      │ (\u001b[38;5;45mNone\u001b[0m, \u001b[38;5;34m1\u001b[0m)                   │              \u001b[38;5;34m33\u001b[0m │\n",
       "└──────────────────────────────────────┴─────────────────────────────┴─────────────────┘\n"
      ]
     },
     "metadata": {},
     "output_type": "display_data"
    },
    {
     "data": {
      "text/html": [
       "<pre style=\"white-space:pre;overflow-x:auto;line-height:normal;font-family:Menlo,'DejaVu Sans Mono',consolas,'Courier New',monospace\"><span style=\"font-weight: bold\"> Total params: </span><span style=\"color: #00af00; text-decoration-color: #00af00\">11,521</span> (45.00 KB)\n",
       "</pre>\n"
      ],
      "text/plain": [
       "\u001b[1m Total params: \u001b[0m\u001b[38;5;34m11,521\u001b[0m (45.00 KB)\n"
      ]
     },
     "metadata": {},
     "output_type": "display_data"
    },
    {
     "data": {
      "text/html": [
       "<pre style=\"white-space:pre;overflow-x:auto;line-height:normal;font-family:Menlo,'DejaVu Sans Mono',consolas,'Courier New',monospace\"><span style=\"font-weight: bold\"> Trainable params: </span><span style=\"color: #00af00; text-decoration-color: #00af00\">11,521</span> (45.00 KB)\n",
       "</pre>\n"
      ],
      "text/plain": [
       "\u001b[1m Trainable params: \u001b[0m\u001b[38;5;34m11,521\u001b[0m (45.00 KB)\n"
      ]
     },
     "metadata": {},
     "output_type": "display_data"
    },
    {
     "data": {
      "text/html": [
       "<pre style=\"white-space:pre;overflow-x:auto;line-height:normal;font-family:Menlo,'DejaVu Sans Mono',consolas,'Courier New',monospace\"><span style=\"font-weight: bold\"> Non-trainable params: </span><span style=\"color: #00af00; text-decoration-color: #00af00\">0</span> (0.00 B)\n",
       "</pre>\n"
      ],
      "text/plain": [
       "\u001b[1m Non-trainable params: \u001b[0m\u001b[38;5;34m0\u001b[0m (0.00 B)\n"
      ]
     },
     "metadata": {},
     "output_type": "display_data"
    }
   ],
   "source": [
    "model.summary()"
   ]
  },
  {
   "cell_type": "markdown",
   "id": "9d37f134-a297-400b-80d1-f82678df6e87",
   "metadata": {},
   "source": [
    "### Teacher Description"
   ]
  },
  {
   "cell_type": "markdown",
   "id": "5b122907-dd78-4e71-8586-308c7f778875",
   "metadata": {},
   "source": [
    "<section style=\"text-align:right;direction:rtl;\">\n",
    "    منظور از پارامتر در خروجی سلول بالا بایاس و وزن ها می باشد.\n",
    "</section>"
   ]
  },
  {
   "cell_type": "markdown",
   "id": "a317e7c4",
   "metadata": {},
   "source": [
    "# Compile the model"
   ]
  },
  {
   "cell_type": "code",
   "execution_count": 30,
   "id": "cef4b168",
   "metadata": {},
   "outputs": [],
   "source": [
    "model.compile(optimizer = SGD(learning_rate= 0.01), loss= 'mse', metrics=['mae'])"
   ]
  },
  {
   "cell_type": "markdown",
   "id": "e1e0a13d-26c0-4a18-b63c-339d49d49990",
   "metadata": {},
   "source": [
    "### Chat-GPT Description"
   ]
  },
  {
   "cell_type": "markdown",
   "id": "60340ced-0b50-4a14-b75c-36edb7185c69",
   "metadata": {},
   "source": [
    "<section style=\"text-align:right;direction:rtl;\">\n",
    "    <h4>1. مرحله کامپایل کردن مدل (Model Compilation)</h4>\n",
    "    قبل از اینکه بتوانید یک مدل یادگیری عمیق را آموزش دهید، باید آن را کامپایل کنید. کامپایل کردن مدل به این معنی است که شما باید به مدل بگویید که از چه بهینه‌سازی (optimizer)، تابع زیان (loss function) و معیارهای ارزیابی (metrics) استفاده کند.<br/>\n",
    "    کد زیر، این مرحله را انجام می‌دهد:<br/>\n",
    "    <code style=\"display:block; text-align:left;direction:ltr\">\n",
    "          model.compile(optimizer=SGD(), loss='mse', metrics=['mae'])  \n",
    "    </code>\n",
    "    در ادامه، هر یک از این بخش‌ها را توضیح می‌دهم:<br/>\n",
    "    <h4>2. بهینه‌سازی (Optimizer)</h4>\n",
    "    <code style=\"display:block; text-align:left;direction:ltr\">\n",
    "        optimizer=SGD()\n",
    "    </code>\n",
    "    <b>SGD (Stochastic Gradient Descent):</b> این یک الگوریتم بهینه‌سازی است که برای کمینه‌کردن تابع زیان استفاده می‌شود. در هر مرحله از آموزش (epoch)، این الگوریتم وزن‌های مدل را با استفاده از گرادیان کاهشی به‌روزرسانی می‌کند.<br/>\n",
    "    <b>نحوه‌ی کارکرد:</b> در روش گرادیان کاهشی تصادفی، به جای استفاده از کل داده‌های آموزشی برای محاسبه‌ی گرادیان (که در گرادیان کاهشی معمولی اتفاق می‌افتد)، هر بار یک نمونه (یا یک مینی‌بت) از داده‌ها انتخاب می‌شود. این کار باعث می‌شود که به‌روزرسانی وزن‌ها سریع‌تر انجام شود و مدل سریع‌تر به حداقل محلی برای تابع زیان برسد.<br/>\n",
    "    <b>چرا SGD؟ روش</b> SGD به دلیل سرعت بالا و سادگی در مسائل مختلف استفاده می‌شود. همچنین، در مشکلاتی که داده‌ها بسیار بزرگ هستند، استفاده از کل داده‌ها در هر به‌روزرسانی می‌تواند بسیار زمان‌بر باشد، به همین دلیل SGD گزینه‌ی مناسبی است.\n",
    "    <h4>3. تابع زیان (Loss Function)</h4>\n",
    "    <code style=\"display:block; text-align:left;direction:ltr\">\n",
    "        loss='mse'\n",
    "    </code>\n",
    "    <b>MSE (Mean Squared Error):</b> این یک تابع زیان است که برای مسائل رگرسیون (مانند پیش‌بینی مقادیر عددی) استفاده می‌شود.<br/>\n",
    "    نحوه‌ی کارکرد: این تابع، میانگین مربعات اختلاف بین مقادیر پیش‌بینی‌شده توسط مدل و مقادیر واقعی را محاسبه می‌کند. فرمول آن به شکل زیر است:<br/>\n",
    "    <img src=\"https://arize.com/wp-content/uploads/2021/12/MSE.png\" width=300 style=\"display:block; margin:auto\" alt=\"به اینترنت وصل شو رفیق\">\n",
    "    که در آن:<br/>\n",
    "    <b>y^i:</b> مقدار پیش‌بینی‌شده توسط مدل است.<br/>\n",
    "    <b>yi:</b> مقدار واقعی است.<br/>\n",
    "    <b>n:</b> تعداد نمونه‌ها است.<br/>\n",
    "    <b>هدف:</b> هدف از استفاده از این تابع، کمینه کردن اختلاف بین مقادیر پیش‌بینی‌شده و واقعی است. وقتی مدل به درستی آموزش ببیند، مقدار MSE باید به حداقل برسد.\n",
    "    <h4>4. معیارهای ارزیابی (Metrics)</h4>\n",
    "    <code style=\"display:block; text-align:left;direction:ltr\">\n",
    "        metrics=['mae']\n",
    "    </code>\n",
    "    <b>MAE (Mean Absolute Error):</b> این یکی از معیارهای ارزیابی است که برای سنجش دقت مدل استفاده می‌شود.<br/>\n",
    "    <b>نحوه‌ی کارکرد:</b> MAE میانگین قدر مطلق اختلاف بین مقادیر پیش‌بینی‌شده و مقادیر واقعی را محاسبه می‌کند. فرمول آن به شکل زیر است:<br/><br/><br/>\n",
    "    <img src=\"https://miro.medium.com/v2/resize:fit:723/1*9BhnZiaHkApC-gQt3rYpMQ.png\" width=500 style=\"display:block; margin:auto\" alt=\"به اینترنت وصل شو رفیق\"><br/><br/><br/>\n",
    "    که در آن:<br/>\n",
    "    <b>y^i:</b>مقدار پیش‌بینی‌شده توسط مدل است.<br/>\n",
    "    <b>yi:</b>مقدار واقعی است.<br/>\n",
    "    <b>n:</b> تعداد نمونه‌ها است.<br/>\n",
    "    <b>چرا MAE؟</b> این معیار به شما کمک می‌کند تا بفهمید مدل شما به‌طور میانگین چقدر از مقادیر واقعی فاصله دارد. برخلاف MSE، MAE تأثیر زیادی از خطاهای بزرگ نمی‌پذیرد، زیرا فقط به اختلاف مطلق توجه می‌کند، نه به مربع آن‌ها.<br/>\n",
    "    <b>چند نکته:</b> در حالی که MSE بیشتر به عنوان تابع زیان استفاده می‌شود، MAE معمولاً به عنوان معیار ارزیابی مدل استفاده می‌شود، زیرا تفسیر آن آسان‌تر است (مستقیماً نشان می‌دهد که به‌طور میانگین چقدر خطا داریم).<br/>\n",
    "    <h4>خلاصه کلی</h4>\n",
    "    کد model.compile(optimizer=SGD(), loss='mse', metrics=['mae']) مدل شما را برای آموزش آماده می‌کند. این تنظیمات تعیین می‌کنند که:<br/>\n",
    "    <b>SGD:</b> الگوریتم بهینه‌سازی مدل است که وزن‌ها را با استفاده از روش گرادیان کاهشی تصادفی به‌روزرسانی می‌کند.<br/>\n",
    "    <b>MSE:</b> تابع زیانی است که مدل باید در حین آموزش کمینه کند. این تابع میانگین مربعات اختلاف بین پیش‌بینی‌ها و مقادیر واقعی را محاسبه می‌کند.<br/>\n",
    "    <b>MAE:</b> معیاری است که برای ارزیابی دقت مدل استفاده می‌شود. این معیار میانگین قدر مطلق اختلافات را نشان می‌دهد.<br/>\n",
    "</section>"
   ]
  },
  {
   "cell_type": "markdown",
   "id": "a9b7dfe7",
   "metadata": {},
   "source": [
    "# Train the model"
   ]
  },
  {
   "cell_type": "code",
   "execution_count": 32,
   "id": "932af778",
   "metadata": {},
   "outputs": [
    {
     "name": "stdout",
     "output_type": "stream",
     "text": [
      "Epoch 1/20\n",
      "\u001b[1m413/413\u001b[0m \u001b[32m━━━━━━━━━━━━━━━━━━━━\u001b[0m\u001b[37m\u001b[0m \u001b[1m1s\u001b[0m 2ms/step - loss: 1.1407 - mae: 0.7414 - val_loss: 0.5007 - val_mae: 0.5013\n",
      "Epoch 2/20\n",
      "\u001b[1m413/413\u001b[0m \u001b[32m━━━━━━━━━━━━━━━━━━━━\u001b[0m\u001b[37m\u001b[0m \u001b[1m1s\u001b[0m 1ms/step - loss: 0.4515 - mae: 0.4817 - val_loss: 0.4399 - val_mae: 0.4740\n",
      "Epoch 3/20\n",
      "\u001b[1m413/413\u001b[0m \u001b[32m━━━━━━━━━━━━━━━━━━━━\u001b[0m\u001b[37m\u001b[0m \u001b[1m0s\u001b[0m 1ms/step - loss: 0.4070 - mae: 0.4527 - val_loss: 0.4281 - val_mae: 0.4733\n",
      "Epoch 4/20\n",
      "\u001b[1m413/413\u001b[0m \u001b[32m━━━━━━━━━━━━━━━━━━━━\u001b[0m\u001b[37m\u001b[0m \u001b[1m0s\u001b[0m 973us/step - loss: 0.3830 - mae: 0.4393 - val_loss: 0.4055 - val_mae: 0.4491\n",
      "Epoch 5/20\n",
      "\u001b[1m413/413\u001b[0m \u001b[32m━━━━━━━━━━━━━━━━━━━━\u001b[0m\u001b[37m\u001b[0m \u001b[1m0s\u001b[0m 990us/step - loss: 0.3735 - mae: 0.4343 - val_loss: 0.3913 - val_mae: 0.4463\n",
      "Epoch 6/20\n",
      "\u001b[1m413/413\u001b[0m \u001b[32m━━━━━━━━━━━━━━━━━━━━\u001b[0m\u001b[37m\u001b[0m \u001b[1m0s\u001b[0m 1ms/step - loss: 0.3545 - mae: 0.4219 - val_loss: 0.3853 - val_mae: 0.4382\n",
      "Epoch 7/20\n",
      "\u001b[1m413/413\u001b[0m \u001b[32m━━━━━━━━━━━━━━━━━━━━\u001b[0m\u001b[37m\u001b[0m \u001b[1m0s\u001b[0m 949us/step - loss: 0.3478 - mae: 0.4153 - val_loss: 0.3906 - val_mae: 0.4243\n",
      "Epoch 8/20\n",
      "\u001b[1m413/413\u001b[0m \u001b[32m━━━━━━━━━━━━━━━━━━━━\u001b[0m\u001b[37m\u001b[0m \u001b[1m0s\u001b[0m 985us/step - loss: 0.3352 - mae: 0.4080 - val_loss: 0.3759 - val_mae: 0.4203\n",
      "Epoch 9/20\n",
      "\u001b[1m413/413\u001b[0m \u001b[32m━━━━━━━━━━━━━━━━━━━━\u001b[0m\u001b[37m\u001b[0m \u001b[1m0s\u001b[0m 949us/step - loss: 0.3315 - mae: 0.4050 - val_loss: 0.3672 - val_mae: 0.4150\n",
      "Epoch 10/20\n",
      "\u001b[1m413/413\u001b[0m \u001b[32m━━━━━━━━━━━━━━━━━━━━\u001b[0m\u001b[37m\u001b[0m \u001b[1m0s\u001b[0m 951us/step - loss: 0.3395 - mae: 0.4084 - val_loss: 0.3614 - val_mae: 0.4271\n",
      "Epoch 11/20\n",
      "\u001b[1m413/413\u001b[0m \u001b[32m━━━━━━━━━━━━━━━━━━━━\u001b[0m\u001b[37m\u001b[0m \u001b[1m0s\u001b[0m 1ms/step - loss: 0.3296 - mae: 0.4053 - val_loss: 0.3515 - val_mae: 0.4073\n",
      "Epoch 12/20\n",
      "\u001b[1m413/413\u001b[0m \u001b[32m━━━━━━━━━━━━━━━━━━━━\u001b[0m\u001b[37m\u001b[0m \u001b[1m1s\u001b[0m 1ms/step - loss: 0.3193 - mae: 0.3955 - val_loss: 0.3423 - val_mae: 0.4020\n",
      "Epoch 13/20\n",
      "\u001b[1m413/413\u001b[0m \u001b[32m━━━━━━━━━━━━━━━━━━━━\u001b[0m\u001b[37m\u001b[0m \u001b[1m1s\u001b[0m 1ms/step - loss: 0.3107 - mae: 0.3911 - val_loss: 0.3544 - val_mae: 0.4337\n",
      "Epoch 14/20\n",
      "\u001b[1m413/413\u001b[0m \u001b[32m━━━━━━━━━━━━━━━━━━━━\u001b[0m\u001b[37m\u001b[0m \u001b[1m0s\u001b[0m 949us/step - loss: 0.3087 - mae: 0.3912 - val_loss: 0.3384 - val_mae: 0.4020\n",
      "Epoch 15/20\n",
      "\u001b[1m413/413\u001b[0m \u001b[32m━━━━━━━━━━━━━━━━━━━━\u001b[0m\u001b[37m\u001b[0m \u001b[1m1s\u001b[0m 1ms/step - loss: 0.3103 - mae: 0.3908 - val_loss: 0.3709 - val_mae: 0.4175\n",
      "Epoch 16/20\n",
      "\u001b[1m413/413\u001b[0m \u001b[32m━━━━━━━━━━━━━━━━━━━━\u001b[0m\u001b[37m\u001b[0m \u001b[1m0s\u001b[0m 985us/step - loss: 0.3137 - mae: 0.3888 - val_loss: 0.3304 - val_mae: 0.3878\n",
      "Epoch 17/20\n",
      "\u001b[1m413/413\u001b[0m \u001b[32m━━━━━━━━━━━━━━━━━━━━\u001b[0m\u001b[37m\u001b[0m \u001b[1m0s\u001b[0m 1ms/step - loss: 0.3076 - mae: 0.3830 - val_loss: 0.3270 - val_mae: 0.3995\n",
      "Epoch 18/20\n",
      "\u001b[1m413/413\u001b[0m \u001b[32m━━━━━━━━━━━━━━━━━━━━\u001b[0m\u001b[37m\u001b[0m \u001b[1m1s\u001b[0m 1ms/step - loss: 0.3035 - mae: 0.3867 - val_loss: 0.3263 - val_mae: 0.3836\n",
      "Epoch 19/20\n",
      "\u001b[1m413/413\u001b[0m \u001b[32m━━━━━━━━━━━━━━━━━━━━\u001b[0m\u001b[37m\u001b[0m \u001b[1m0s\u001b[0m 954us/step - loss: 0.3026 - mae: 0.3831 - val_loss: 0.3226 - val_mae: 0.3889\n",
      "Epoch 20/20\n",
      "\u001b[1m413/413\u001b[0m \u001b[32m━━━━━━━━━━━━━━━━━━━━\u001b[0m\u001b[37m\u001b[0m \u001b[1m0s\u001b[0m 1ms/step - loss: 0.2975 - mae: 0.3801 - val_loss: 0.3241 - val_mae: 0.4000\n"
     ]
    }
   ],
   "source": [
    "history = model.fit(x_train, y_train, validation_split=0.2, epochs=20, batch_size=32)"
   ]
  },
  {
   "cell_type": "markdown",
   "id": "c0297f44-98b5-4643-95cf-fef057c745a1",
   "metadata": {},
   "source": [
    "<section style=\"text-align:right;direction:rtl;\">\n",
    "    <h4>1. مقدمه: تابع fit در Keras</h4>\n",
    "    در Keras، تابع fit اصلی‌ترین تابع برای آموزش مدل است. این تابع مدل شما را با استفاده از داده‌های ورودی (x_train) و خروجی (y_train) آموزش می‌دهد. در طی این فرآیند، مدل سعی می‌کند وزن‌های خود را به‌گونه‌ای تنظیم کند که تابع زیان (loss) کاهش یابد و دقت مدل افزایش یابد.\n",
    "    <h4>2. پارامترهای اصلی fit</h4>\n",
    "    اجازه دهید هر یک از پارامترهای استفاده‌شده در این تابع را به‌طور جداگانه توضیح دهم:<br/>\n",
    "    <b>2.1 x_train و y_train: داده‌های آموزشی</b><br/>\n",
    "    <code style=\"display:block; text-align:left;direction:ltr\">\n",
    "        x_train, y_train\n",
    "    </code>\n",
    "    <b>x_train:</b> این آرایه شامل داده‌های ورودی است که مدل با آن‌ها آموزش می‌بیند. برای مثال، اگر داده‌های ورودی شما تصاویر باشند، x_train شامل پیکسل‌های این تصاویر خواهد بود.<br/>\n",
    "    <b>y_train:</b> این آرایه شامل برچسب‌های واقعی یا خروجی‌های مورد نظر است که مدل باید یاد بگیرد. برای مثال، اگر مسئله شما دسته‌بندی تصاویر باشد، y_train شامل کلاس‌های مرتبط با هر تصویر خواهد بود.<br/>\n",
    "    <b>2.2 validation_split: تقسیم‌بندی داده‌ها برای اعتبارسنجی</b><br/>\n",
    "    <code style=\"display:block; text-align:left;direction:ltr\">\n",
    "        validation_split=0.2\n",
    "    </code>\n",
    "    <b>validation_split=0.2:</b> این پارامتر مشخص می‌کند که 20٪ از داده‌های آموزشی به عنوان داده‌های اعتبارسنجی (validation data) استفاده شوند. یعنی Keras به‌طور خودکار 80٪ از داده‌ها را برای آموزش و 20٪ را برای اعتبارسنجی جدا می‌کند.<br/>\n",
    "    <b>چرا داده‌های اعتبارسنجی؟</b> داده‌های اعتبارسنجی به شما کمک می‌کنند که عملکرد مدل را در طول آموزش ارزیابی کنید. اگر مدل در حین آموزش روی داده‌های آموزشی عملکرد خوبی داشته باشد اما روی داده‌های اعتبارسنجی عملکرد ضعیفی داشته باشد، این نشان‌دهنده‌ی overfitting است.<br/><br/>\n",
    "    <b>2.3 epochs:</b> تعداد دوره‌های آموزشی\n",
    "    <code style=\"display:block; text-align:left;direction:ltr\">\n",
    "        epochs=20\n",
    "    </code>\n",
    "    <b>epochs=20:</b> تعداد epochها تعیین می‌کند که مدل شما چند بار به‌طور کامل روی کل داده‌های آموزشی آموزش ببیند. یک epoch یعنی مدل یک بار تمامی داده‌های x_train و y_train را پردازش کند.<br/>\n",
    "    <b>چرا 20 epoch؟</b> انتخاب تعداد epochها به پیچیدگی مسئله، حجم داده‌ها، و تنظیمات دیگر بستگی دارد. معمولاً با تعداد کمی از epochها شروع می‌کنید و سپس بر اساس عملکرد مدل، تعداد آن‌ها را افزایش یا کاهش می‌دهید.<br/><br/>\n",
    "    <b>2.4 batch_size: اندازه‌ی دسته‌های آموزشی</b>\n",
    "    <code style=\"display:block; text-align:left;direction:ltr\">\n",
    "        batch_size=32\n",
    "    </code>\n",
    "    <b>batch_size=32:</b> این پارامتر تعیین می‌کند که در هر مرحله‌ی آموزش، مدل چه تعداد نمونه (یا داده) را به‌طور همزمان پردازش کند. در اینجا، 32 نمونه در هر مرحله پردازش می‌شوند.<br/>\n",
    "    <b>چرا دسته‌ها (batches)؟</b> پردازش کل داده‌ها به صورت یکجا ممکن است به حافظه زیادی نیاز داشته باشد و زمان زیادی طول بکشد. به همین دلیل داده‌ها به دسته‌های کوچکتر (batchها) تقسیم می‌شوند. مدل در هر مرحله یک batch را پردازش می‌کند، وزن‌ها را به‌روزرسانی می‌کند و سپس به سراغ batch بعدی می‌رود.<br/>\n",
    "    <b>تأثیر batch_size:</b> اندازه‌ی batch می‌تواند بر سرعت آموزش و کیفیت مدل تأثیر بگذارد. batchهای کوچکتر ممکن است باعث نوسانات بیشتر در فرآیند آموزش شوند، اما می‌توانند سرعت یادگیری را افزایش دهند.\n",
    "    <h4>3. خروجی تابع fit: شیء history</h4>\n",
    "    <code style=\"display:block; text-align:left;direction:ltr\">\n",
    "        history = model.fit(...)\n",
    "    </code>\n",
    "    <b>history:</b> خروجی تابع fit یک شیء از نوع History است که شامل اطلاعاتی درباره‌ی فرآیند آموزش مدل است. این اطلاعات شامل موارد زیر است:<br/>\n",
    "    <b>loss:</b> مقدار تابع زیان در هر epoch.<br/>\n",
    "    <b>val_loss:</b> مقدار تابع زیان روی داده‌های اعتبارسنجی در هر epoch.<br/>\n",
    "    <b>metrics:</b> مقادیر معیارهایی که در حین آموزش اندازه‌گیری شده‌اند (مثل دقت یا خطا).<br/>\n",
    "    <b>val_metrics:</b> مقادیر معیارهای ارزیابی روی داده‌های اعتبارسنجی.<br/>\n",
    "    <b>چرا history مهم است؟</b> این شیء به شما اجازه می‌دهد که روند آموزش مدل را بررسی کنید و از طریق رسم نمودار، تغییرات تابع زیان و معیارها را در طول زمان مشاهده کنید. این کار به شما کمک می‌کند تا تصمیم بگیرید آیا باید تعداد epochها را افزایش دهید، اندازه‌ی batch را تغییر دهید یا تنظیمات دیگر را بهینه کنید.\n",
    "    <h4>4. فرآیند آموزش: آنچه در پشت صحنه اتفاق می‌افتد</h4>\n",
    "    در طول فرآیند آموزش با استفاده از تابع fit، مراحل زیر به ترتیب اتفاق می‌افتد:<br/>\n",
    "    <b>Initialization:</b> مدل با وزن‌های اولیه شروع به کار می‌کند.<br/>\n",
    "    <b>Forward Propagation:</b> مدل داده‌های ورودی را پردازش می‌کند و پیش‌بینی‌هایی انجام می‌دهد.<br/>\n",
    "    <b>Loss Calculation:</b> تابع زیان مقدار خطای پیش‌بینی‌ها را محاسبه می‌کند.<br/>\n",
    "    <b>Backpropagation:</b> با استفاده از الگوریتم بهینه‌سازی (مثل SGD)، مدل وزن‌های خود را برای کمینه کردن تابع زیان به‌روزرسانی می‌کند.<br/>\n",
    "    <b>Batch Processing:</b> این فرآیند برای هر batch از داده‌ها تکرار می‌شود.<br/>\n",
    "    <b>Validation:</b> پس از هر epoch، مدل روی داده‌های اعتبارسنجی ارزیابی می‌شود.<br/>\n",
    "    <b>Iteration:</b> این فرآیند برای تعداد تعیین‌شده‌ای از epochها (در اینجا 20) تکرار می‌شود.<br/>\n",
    "    <h4>خلاصه کلی</h4>\n",
    "    کد history = model.fit(x_train, y_train, validation_split=0.2, epochs=20, batch_size=32) به‌طور کامل مدل شما را آموزش می‌دهد. این کد:<br/>\n",
    "    داده‌های آموزشی و اعتبارسنجی را با توجه به validation_split تقسیم می‌کند.<br/>\n",
    "    مدل را به مدت 20 دوره (epoch) با استفاده از داده‌های آموزشی آموزش می‌دهد.<br/>\n",
    "    داده‌ها را در دسته‌های 32 تایی (batch size) پردازش می‌کند.<br/>\n",
    "    خروجی history را برمی‌گرداند که شامل اطلاعاتی درباره‌ی عملکرد مدل در هر epoch است.<br/>\n",
    "    این مراحل اساسی در یادگیری عمیق هستند و به شما اجازه می‌دهند تا مدل‌های پیچیده‌تری را برای مسائل مختلف آموزش دهید.<br/>\n",
    "</section>"
   ]
  },
  {
   "cell_type": "markdown",
   "id": "ce04392e",
   "metadata": {},
   "source": [
    "# Evaluate the model on the test set"
   ]
  },
  {
   "cell_type": "code",
   "execution_count": 37,
   "id": "ea2cd9a8",
   "metadata": {},
   "outputs": [
    {
     "name": "stdout",
     "output_type": "stream",
     "text": [
      "\u001b[1m129/129\u001b[0m \u001b[32m━━━━━━━━━━━━━━━━━━━━\u001b[0m\u001b[37m\u001b[0m \u001b[1m0s\u001b[0m 649us/step\n"
     ]
    }
   ],
   "source": [
    "y_pred = model.predict(x_test)"
   ]
  },
  {
   "cell_type": "code",
   "execution_count": 38,
   "id": "f95d757e",
   "metadata": {},
   "outputs": [
    {
     "data": {
      "text/plain": [
       "0.7754473865837441"
      ]
     },
     "execution_count": 38,
     "metadata": {},
     "output_type": "execute_result"
    }
   ],
   "source": [
    "r2 = r2_score(y_test, y_pred)\n",
    "r2"
   ]
  },
  {
   "cell_type": "code",
   "execution_count": 39,
   "id": "6f05d017",
   "metadata": {},
   "outputs": [
    {
     "name": "stdout",
     "output_type": "stream",
     "text": [
      "\u001b[1m129/129\u001b[0m \u001b[32m━━━━━━━━━━━━━━━━━━━━\u001b[0m\u001b[37m\u001b[0m \u001b[1m0s\u001b[0m 648us/step - loss: 0.2901 - mae: 0.3744\n"
     ]
    },
    {
     "data": {
      "text/plain": [
       "0.3728879690170288"
      ]
     },
     "execution_count": 39,
     "metadata": {},
     "output_type": "execute_result"
    }
   ],
   "source": [
    "test_loss, test_mae = model.evaluate(x_test,y_test)\n",
    "\n",
    "test_mae"
   ]
  },
  {
   "cell_type": "code",
   "execution_count": 40,
   "id": "eced6f23",
   "metadata": {},
   "outputs": [
    {
     "data": {
      "text/plain": [
       "0.2942558228969574"
      ]
     },
     "execution_count": 40,
     "metadata": {},
     "output_type": "execute_result"
    }
   ],
   "source": [
    "test_loss"
   ]
  },
  {
   "cell_type": "markdown",
   "id": "028d554a",
   "metadata": {},
   "source": [
    "# Plot"
   ]
  },
  {
   "cell_type": "code",
   "execution_count": 42,
   "id": "546ef5db",
   "metadata": {},
   "outputs": [],
   "source": [
    "# Function to plot the training, validation, and test metrics\n",
    "def plot_metrics(history, y_test, y_pred, test_loss, test_mae, metric_name):\n",
    "    plt.plot(history.history[metric_name], label=f'Training {metric_name}')\n",
    "    plt.plot(history.history[f'val_{metric_name}'], label=f'Validation {metric_name}')\n",
    "    if metric_name == 'loss':\n",
    "        plt.scatter(len(history.history[metric_name]) - 1, test_loss, color='red', label='Test Loss')\n",
    "    else:\n",
    "        plt.scatter(len(history.history[metric_name]) - 1, test_mae, color='red', label='Test MAE')\n",
    "    plt.xlabel('Epochs')\n",
    "    plt.ylabel(metric_name.capitalize())\n",
    "    plt.legend()\n",
    "    plt.show()"
   ]
  },
  {
   "cell_type": "code",
   "execution_count": 43,
   "id": "b2c49c86",
   "metadata": {},
   "outputs": [
    {
     "data": {
      "image/png": "[encoded data removed]",
      "text/plain": [
       "<Figure size 640x480 with 1 Axes>"
      ]
     },
     "metadata": {},
     "output_type": "display_data"
    },
    {
     "data": {
      "image/png": "[encoded data removed]",
      "text/plain": [
       "<Figure size 640x480 with 1 Axes>"
      ]
     },
     "metadata": {},
     "output_type": "display_data"
    }
   ],
   "source": [
    "plot_metrics(history, y_test, y_pred, test_loss, test_mae, 'loss')\n",
    "plot_metrics(history, y_test, y_pred, test_loss, test_mae, 'mae')"
   ]
  }
 ],
 "metadata": {
  "kernelspec": {
   "display_name": "Python (myenv)",
   "language": "python",
   "name": "myenv"
  },
  "language_info": {
   "codemirror_mode": {
    "name": "ipython",
    "version": 3
   },
   "file_extension": ".py",
   "mimetype": "text/x-python",
   "name": "python",
   "nbconvert_exporter": "python",
   "pygments_lexer": "ipython3",
   "version": "3.12.1"
  }
 },
 "nbformat": 4,
 "nbformat_minor": 5
}
